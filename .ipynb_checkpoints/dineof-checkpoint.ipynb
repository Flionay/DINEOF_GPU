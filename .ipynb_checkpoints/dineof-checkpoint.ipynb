{
 "cells": [
  {
   "cell_type": "code",
   "execution_count": 1,
   "metadata": {},
   "outputs": [],
   "source": [
    "import torch\n",
    "import numpy as np\n",
    "\n",
    "from torch import unsqueeze\n",
    "\n",
    "import xarray as xr\n",
    "import scipy"
   ]
  },
  {
   "cell_type": "code",
   "execution_count": 4,
   "metadata": {},
   "outputs": [],
   "source": [
    "nc = xr.open_dataset('/data/Chenjq/Southsea_OCCCI/OCCCI/CCI_ALL-v5.0-DAILY.nc')"
   ]
  },
  {
   "cell_type": "code",
   "execution_count": 5,
   "metadata": {},
   "outputs": [
    {
     "data": {
      "text/html": [
       "<div><svg style=\"position: absolute; width: 0; height: 0; overflow: hidden\">\n",
       "<defs>\n",
       "<symbol id=\"icon-database\" viewBox=\"0 0 32 32\">\n",
       "<path d=\"M16 0c-8.837 0-16 2.239-16 5v4c0 2.761 7.163 5 16 5s16-2.239 16-5v-4c0-2.761-7.163-5-16-5z\"></path>\n",
       "<path d=\"M16 17c-8.837 0-16-2.239-16-5v6c0 2.761 7.163 5 16 5s16-2.239 16-5v-6c0 2.761-7.163 5-16 5z\"></path>\n",
       "<path d=\"M16 26c-8.837 0-16-2.239-16-5v6c0 2.761 7.163 5 16 5s16-2.239 16-5v-6c0 2.761-7.163 5-16 5z\"></path>\n",
       "</symbol>\n",
       "<symbol id=\"icon-file-text2\" viewBox=\"0 0 32 32\">\n",
       "<path d=\"M28.681 7.159c-0.694-0.947-1.662-2.053-2.724-3.116s-2.169-2.030-3.116-2.724c-1.612-1.182-2.393-1.319-2.841-1.319h-15.5c-1.378 0-2.5 1.121-2.5 2.5v27c0 1.378 1.122 2.5 2.5 2.5h23c1.378 0 2.5-1.122 2.5-2.5v-19.5c0-0.448-0.137-1.23-1.319-2.841zM24.543 5.457c0.959 0.959 1.712 1.825 2.268 2.543h-4.811v-4.811c0.718 0.556 1.584 1.309 2.543 2.268zM28 29.5c0 0.271-0.229 0.5-0.5 0.5h-23c-0.271 0-0.5-0.229-0.5-0.5v-27c0-0.271 0.229-0.5 0.5-0.5 0 0 15.499-0 15.5 0v7c0 0.552 0.448 1 1 1h7v19.5z\"></path>\n",
       "<path d=\"M23 26h-14c-0.552 0-1-0.448-1-1s0.448-1 1-1h14c0.552 0 1 0.448 1 1s-0.448 1-1 1z\"></path>\n",
       "<path d=\"M23 22h-14c-0.552 0-1-0.448-1-1s0.448-1 1-1h14c0.552 0 1 0.448 1 1s-0.448 1-1 1z\"></path>\n",
       "<path d=\"M23 18h-14c-0.552 0-1-0.448-1-1s0.448-1 1-1h14c0.552 0 1 0.448 1 1s-0.448 1-1 1z\"></path>\n",
       "</symbol>\n",
       "</defs>\n",
       "</svg>\n",
       "<style>/* CSS stylesheet for displaying xarray objects in jupyterlab.\n",
       " *\n",
       " */\n",
       "\n",
       ":root {\n",
       "  --xr-font-color0: var(--jp-content-font-color0, rgba(0, 0, 0, 1));\n",
       "  --xr-font-color2: var(--jp-content-font-color2, rgba(0, 0, 0, 0.54));\n",
       "  --xr-font-color3: var(--jp-content-font-color3, rgba(0, 0, 0, 0.38));\n",
       "  --xr-border-color: var(--jp-border-color2, #e0e0e0);\n",
       "  --xr-disabled-color: var(--jp-layout-color3, #bdbdbd);\n",
       "  --xr-background-color: var(--jp-layout-color0, white);\n",
       "  --xr-background-color-row-even: var(--jp-layout-color1, white);\n",
       "  --xr-background-color-row-odd: var(--jp-layout-color2, #eeeeee);\n",
       "}\n",
       "\n",
       "html[theme=dark],\n",
       "body.vscode-dark {\n",
       "  --xr-font-color0: rgba(255, 255, 255, 1);\n",
       "  --xr-font-color2: rgba(255, 255, 255, 0.54);\n",
       "  --xr-font-color3: rgba(255, 255, 255, 0.38);\n",
       "  --xr-border-color: #1F1F1F;\n",
       "  --xr-disabled-color: #515151;\n",
       "  --xr-background-color: #111111;\n",
       "  --xr-background-color-row-even: #111111;\n",
       "  --xr-background-color-row-odd: #313131;\n",
       "}\n",
       "\n",
       ".xr-wrap {\n",
       "  display: block;\n",
       "  min-width: 300px;\n",
       "  max-width: 700px;\n",
       "}\n",
       "\n",
       ".xr-text-repr-fallback {\n",
       "  /* fallback to plain text repr when CSS is not injected (untrusted notebook) */\n",
       "  display: none;\n",
       "}\n",
       "\n",
       ".xr-header {\n",
       "  padding-top: 6px;\n",
       "  padding-bottom: 6px;\n",
       "  margin-bottom: 4px;\n",
       "  border-bottom: solid 1px var(--xr-border-color);\n",
       "}\n",
       "\n",
       ".xr-header > div,\n",
       ".xr-header > ul {\n",
       "  display: inline;\n",
       "  margin-top: 0;\n",
       "  margin-bottom: 0;\n",
       "}\n",
       "\n",
       ".xr-obj-type,\n",
       ".xr-array-name {\n",
       "  margin-left: 2px;\n",
       "  margin-right: 10px;\n",
       "}\n",
       "\n",
       ".xr-obj-type {\n",
       "  color: var(--xr-font-color2);\n",
       "}\n",
       "\n",
       ".xr-sections {\n",
       "  padding-left: 0 !important;\n",
       "  display: grid;\n",
       "  grid-template-columns: 150px auto auto 1fr 20px 20px;\n",
       "}\n",
       "\n",
       ".xr-section-item {\n",
       "  display: contents;\n",
       "}\n",
       "\n",
       ".xr-section-item input {\n",
       "  display: none;\n",
       "}\n",
       "\n",
       ".xr-section-item input + label {\n",
       "  color: var(--xr-disabled-color);\n",
       "}\n",
       "\n",
       ".xr-section-item input:enabled + label {\n",
       "  cursor: pointer;\n",
       "  color: var(--xr-font-color2);\n",
       "}\n",
       "\n",
       ".xr-section-item input:enabled + label:hover {\n",
       "  color: var(--xr-font-color0);\n",
       "}\n",
       "\n",
       ".xr-section-summary {\n",
       "  grid-column: 1;\n",
       "  color: var(--xr-font-color2);\n",
       "  font-weight: 500;\n",
       "}\n",
       "\n",
       ".xr-section-summary > span {\n",
       "  display: inline-block;\n",
       "  padding-left: 0.5em;\n",
       "}\n",
       "\n",
       ".xr-section-summary-in:disabled + label {\n",
       "  color: var(--xr-font-color2);\n",
       "}\n",
       "\n",
       ".xr-section-summary-in + label:before {\n",
       "  display: inline-block;\n",
       "  content: '►';\n",
       "  font-size: 11px;\n",
       "  width: 15px;\n",
       "  text-align: center;\n",
       "}\n",
       "\n",
       ".xr-section-summary-in:disabled + label:before {\n",
       "  color: var(--xr-disabled-color);\n",
       "}\n",
       "\n",
       ".xr-section-summary-in:checked + label:before {\n",
       "  content: '▼';\n",
       "}\n",
       "\n",
       ".xr-section-summary-in:checked + label > span {\n",
       "  display: none;\n",
       "}\n",
       "\n",
       ".xr-section-summary,\n",
       ".xr-section-inline-details {\n",
       "  padding-top: 4px;\n",
       "  padding-bottom: 4px;\n",
       "}\n",
       "\n",
       ".xr-section-inline-details {\n",
       "  grid-column: 2 / -1;\n",
       "}\n",
       "\n",
       ".xr-section-details {\n",
       "  display: none;\n",
       "  grid-column: 1 / -1;\n",
       "  margin-bottom: 5px;\n",
       "}\n",
       "\n",
       ".xr-section-summary-in:checked ~ .xr-section-details {\n",
       "  display: contents;\n",
       "}\n",
       "\n",
       ".xr-array-wrap {\n",
       "  grid-column: 1 / -1;\n",
       "  display: grid;\n",
       "  grid-template-columns: 20px auto;\n",
       "}\n",
       "\n",
       ".xr-array-wrap > label {\n",
       "  grid-column: 1;\n",
       "  vertical-align: top;\n",
       "}\n",
       "\n",
       ".xr-preview {\n",
       "  color: var(--xr-font-color3);\n",
       "}\n",
       "\n",
       ".xr-array-preview,\n",
       ".xr-array-data {\n",
       "  padding: 0 5px !important;\n",
       "  grid-column: 2;\n",
       "}\n",
       "\n",
       ".xr-array-data,\n",
       ".xr-array-in:checked ~ .xr-array-preview {\n",
       "  display: none;\n",
       "}\n",
       "\n",
       ".xr-array-in:checked ~ .xr-array-data,\n",
       ".xr-array-preview {\n",
       "  display: inline-block;\n",
       "}\n",
       "\n",
       ".xr-dim-list {\n",
       "  display: inline-block !important;\n",
       "  list-style: none;\n",
       "  padding: 0 !important;\n",
       "  margin: 0;\n",
       "}\n",
       "\n",
       ".xr-dim-list li {\n",
       "  display: inline-block;\n",
       "  padding: 0;\n",
       "  margin: 0;\n",
       "}\n",
       "\n",
       ".xr-dim-list:before {\n",
       "  content: '(';\n",
       "}\n",
       "\n",
       ".xr-dim-list:after {\n",
       "  content: ')';\n",
       "}\n",
       "\n",
       ".xr-dim-list li:not(:last-child):after {\n",
       "  content: ',';\n",
       "  padding-right: 5px;\n",
       "}\n",
       "\n",
       ".xr-has-index {\n",
       "  font-weight: bold;\n",
       "}\n",
       "\n",
       ".xr-var-list,\n",
       ".xr-var-item {\n",
       "  display: contents;\n",
       "}\n",
       "\n",
       ".xr-var-item > div,\n",
       ".xr-var-item label,\n",
       ".xr-var-item > .xr-var-name span {\n",
       "  background-color: var(--xr-background-color-row-even);\n",
       "  margin-bottom: 0;\n",
       "}\n",
       "\n",
       ".xr-var-item > .xr-var-name:hover span {\n",
       "  padding-right: 5px;\n",
       "}\n",
       "\n",
       ".xr-var-list > li:nth-child(odd) > div,\n",
       ".xr-var-list > li:nth-child(odd) > label,\n",
       ".xr-var-list > li:nth-child(odd) > .xr-var-name span {\n",
       "  background-color: var(--xr-background-color-row-odd);\n",
       "}\n",
       "\n",
       ".xr-var-name {\n",
       "  grid-column: 1;\n",
       "}\n",
       "\n",
       ".xr-var-dims {\n",
       "  grid-column: 2;\n",
       "}\n",
       "\n",
       ".xr-var-dtype {\n",
       "  grid-column: 3;\n",
       "  text-align: right;\n",
       "  color: var(--xr-font-color2);\n",
       "}\n",
       "\n",
       ".xr-var-preview {\n",
       "  grid-column: 4;\n",
       "}\n",
       "\n",
       ".xr-var-name,\n",
       ".xr-var-dims,\n",
       ".xr-var-dtype,\n",
       ".xr-preview,\n",
       ".xr-attrs dt {\n",
       "  white-space: nowrap;\n",
       "  overflow: hidden;\n",
       "  text-overflow: ellipsis;\n",
       "  padding-right: 10px;\n",
       "}\n",
       "\n",
       ".xr-var-name:hover,\n",
       ".xr-var-dims:hover,\n",
       ".xr-var-dtype:hover,\n",
       ".xr-attrs dt:hover {\n",
       "  overflow: visible;\n",
       "  width: auto;\n",
       "  z-index: 1;\n",
       "}\n",
       "\n",
       ".xr-var-attrs,\n",
       ".xr-var-data {\n",
       "  display: none;\n",
       "  background-color: var(--xr-background-color) !important;\n",
       "  padding-bottom: 5px !important;\n",
       "}\n",
       "\n",
       ".xr-var-attrs-in:checked ~ .xr-var-attrs,\n",
       ".xr-var-data-in:checked ~ .xr-var-data {\n",
       "  display: block;\n",
       "}\n",
       "\n",
       ".xr-var-data > table {\n",
       "  float: right;\n",
       "}\n",
       "\n",
       ".xr-var-name span,\n",
       ".xr-var-data,\n",
       ".xr-attrs {\n",
       "  padding-left: 25px !important;\n",
       "}\n",
       "\n",
       ".xr-attrs,\n",
       ".xr-var-attrs,\n",
       ".xr-var-data {\n",
       "  grid-column: 1 / -1;\n",
       "}\n",
       "\n",
       "dl.xr-attrs {\n",
       "  padding: 0;\n",
       "  margin: 0;\n",
       "  display: grid;\n",
       "  grid-template-columns: 125px auto;\n",
       "}\n",
       "\n",
       ".xr-attrs dt,\n",
       ".xr-attrs dd {\n",
       "  padding: 0;\n",
       "  margin: 0;\n",
       "  float: left;\n",
       "  padding-right: 10px;\n",
       "  width: auto;\n",
       "}\n",
       "\n",
       ".xr-attrs dt {\n",
       "  font-weight: normal;\n",
       "  grid-column: 1;\n",
       "}\n",
       "\n",
       ".xr-attrs dt:hover span {\n",
       "  display: inline-block;\n",
       "  background: var(--xr-background-color);\n",
       "  padding-right: 10px;\n",
       "}\n",
       "\n",
       ".xr-attrs dd {\n",
       "  grid-column: 2;\n",
       "  white-space: pre-wrap;\n",
       "  word-break: break-all;\n",
       "}\n",
       "\n",
       ".xr-icon-database,\n",
       ".xr-icon-file-text2 {\n",
       "  display: inline-block;\n",
       "  vertical-align: middle;\n",
       "  width: 1em;\n",
       "  height: 1.5em !important;\n",
       "  stroke-width: 0;\n",
       "  stroke: currentColor;\n",
       "  fill: currentColor;\n",
       "}\n",
       "</style><pre class='xr-text-repr-fallback'>&lt;xarray.Dataset&gt;\n",
       "Dimensions:  (lat: 601, lon: 481, time: 731)\n",
       "Coordinates:\n",
       "  * time     (time) datetime64[ns] 2014-01-01 2014-01-02 ... 2016-01-01\n",
       "  * lat      (lat) float64 24.98 24.94 24.9 24.85 ... 0.0625 0.02083 -0.02083\n",
       "  * lon      (lon) float64 105.0 105.1 105.1 105.1 ... 124.9 124.9 125.0 125.0\n",
       "Data variables:\n",
       "    chlor_a  (time, lat, lon) float32 ...\n",
       "Attributes: (12/50)\n",
       "    _NCProperties:                     version=1|netcdflibversion=4.4.1.1|hdf...\n",
       "    Conventions:                       CF-1.7\n",
       "    start_date:                        30-DEC-2020 00:00:00.000000\n",
       "    stop_date:                         30-DEC-2020 23:59:00.000000\n",
       "    Metadata_Conventions:              Unidata Dataset Discovery v1.0\n",
       "    cdm_data_type:                     Grid\n",
       "    ...                                ...\n",
       "    time_coverage_end:                 202012302359Z\n",
       "    time_coverage_resolution:          P1D\n",
       "    time_coverage_start:               202012300000Z\n",
       "    title:                             ESA CCI Ocean Colour Product\n",
       "    tracking_id:                       e8da46e7-cf1c-4530-8aaf-18a3e13272f9\n",
       "    History:                           Translated to CF-1.0 Conventions by Ne...</pre><div class='xr-wrap' hidden><div class='xr-header'><div class='xr-obj-type'>xarray.Dataset</div></div><ul class='xr-sections'><li class='xr-section-item'><input id='section-c12886d1-8970-4c74-8aee-29d4823fa3ed' class='xr-section-summary-in' type='checkbox' disabled ><label for='section-c12886d1-8970-4c74-8aee-29d4823fa3ed' class='xr-section-summary'  title='Expand/collapse section'>Dimensions:</label><div class='xr-section-inline-details'><ul class='xr-dim-list'><li><span class='xr-has-index'>lat</span>: 601</li><li><span class='xr-has-index'>lon</span>: 481</li><li><span class='xr-has-index'>time</span>: 731</li></ul></div><div class='xr-section-details'></div></li><li class='xr-section-item'><input id='section-12d9e099-7653-4dbe-898a-050c681e1791' class='xr-section-summary-in' type='checkbox'  checked><label for='section-12d9e099-7653-4dbe-898a-050c681e1791' class='xr-section-summary' >Coordinates: <span>(3)</span></label><div class='xr-section-inline-details'></div><div class='xr-section-details'><ul class='xr-var-list'><li class='xr-var-item'><div class='xr-var-name'><span class='xr-has-index'>time</span></div><div class='xr-var-dims'>(time)</div><div class='xr-var-dtype'>datetime64[ns]</div><div class='xr-var-preview xr-preview'>2014-01-01 ... 2016-01-01</div><input id='attrs-78af5c18-79e6-445a-b92c-82e75b85467e' class='xr-var-attrs-in' type='checkbox' ><label for='attrs-78af5c18-79e6-445a-b92c-82e75b85467e' title='Show/Hide attributes'><svg class='icon xr-icon-file-text2'><use xlink:href='#icon-file-text2'></use></svg></label><input id='data-91d294fb-9b18-41f0-9469-28554ac924b2' class='xr-var-data-in' type='checkbox'><label for='data-91d294fb-9b18-41f0-9469-28554ac924b2' title='Show/Hide data repr'><svg class='icon xr-icon-database'><use xlink:href='#icon-database'></use></svg></label><div class='xr-var-attrs'><dl class='xr-attrs'><dt><span>axis :</span></dt><dd>T</dd><dt><span>standard_name :</span></dt><dd>time</dd><dt><span>_ChunkSizes :</span></dt><dd>1</dd><dt><span>_CoordinateAxisType :</span></dt><dd>Time</dd></dl></div><div class='xr-var-data'><pre>array([&#x27;2014-01-01T00:00:00.000000000&#x27;, &#x27;2014-01-02T00:00:00.000000000&#x27;,\n",
       "       &#x27;2014-01-03T00:00:00.000000000&#x27;, ..., &#x27;2015-12-30T00:00:00.000000000&#x27;,\n",
       "       &#x27;2015-12-31T00:00:00.000000000&#x27;, &#x27;2016-01-01T00:00:00.000000000&#x27;],\n",
       "      dtype=&#x27;datetime64[ns]&#x27;)</pre></div></li><li class='xr-var-item'><div class='xr-var-name'><span class='xr-has-index'>lat</span></div><div class='xr-var-dims'>(lat)</div><div class='xr-var-dtype'>float64</div><div class='xr-var-preview xr-preview'>24.98 24.94 ... 0.02083 -0.02083</div><input id='attrs-74f77d3a-3847-4126-a1fa-cbe43bea275c' class='xr-var-attrs-in' type='checkbox' ><label for='attrs-74f77d3a-3847-4126-a1fa-cbe43bea275c' title='Show/Hide attributes'><svg class='icon xr-icon-file-text2'><use xlink:href='#icon-file-text2'></use></svg></label><input id='data-73a66259-8977-4bbe-aaf1-eaea6d66d1e7' class='xr-var-data-in' type='checkbox'><label for='data-73a66259-8977-4bbe-aaf1-eaea6d66d1e7' title='Show/Hide data repr'><svg class='icon xr-icon-database'><use xlink:href='#icon-database'></use></svg></label><div class='xr-var-attrs'><dl class='xr-attrs'><dt><span>units :</span></dt><dd>degrees_north</dd><dt><span>long_name :</span></dt><dd>latitude</dd><dt><span>standard_name :</span></dt><dd>latitude</dd><dt><span>valid_min :</span></dt><dd>-89.97916666666666</dd><dt><span>valid_max :</span></dt><dd>89.97916666666667</dd><dt><span>axis :</span></dt><dd>Y</dd><dt><span>_ChunkSizes :</span></dt><dd>270</dd><dt><span>_CoordinateAxisType :</span></dt><dd>Lat</dd></dl></div><div class='xr-var-data'><pre>array([ 2.497917e+01,  2.493750e+01,  2.489583e+01, ...,  6.250000e-02,\n",
       "        2.083333e-02, -2.083333e-02])</pre></div></li><li class='xr-var-item'><div class='xr-var-name'><span class='xr-has-index'>lon</span></div><div class='xr-var-dims'>(lon)</div><div class='xr-var-dtype'>float64</div><div class='xr-var-preview xr-preview'>105.0 105.1 105.1 ... 125.0 125.0</div><input id='attrs-beb915a6-7a3c-4481-bff4-9907bf9c5ad2' class='xr-var-attrs-in' type='checkbox' ><label for='attrs-beb915a6-7a3c-4481-bff4-9907bf9c5ad2' title='Show/Hide attributes'><svg class='icon xr-icon-file-text2'><use xlink:href='#icon-file-text2'></use></svg></label><input id='data-e45bb08c-e0e4-40a3-a566-6f1177e10ce1' class='xr-var-data-in' type='checkbox'><label for='data-e45bb08c-e0e4-40a3-a566-6f1177e10ce1' title='Show/Hide data repr'><svg class='icon xr-icon-database'><use xlink:href='#icon-database'></use></svg></label><div class='xr-var-attrs'><dl class='xr-attrs'><dt><span>units :</span></dt><dd>degrees_east</dd><dt><span>long_name :</span></dt><dd>longitude</dd><dt><span>standard_name :</span></dt><dd>longitude</dd><dt><span>valid_min :</span></dt><dd>-179.97916666666666</dd><dt><span>valid_max :</span></dt><dd>179.97916666666663</dd><dt><span>axis :</span></dt><dd>X</dd><dt><span>_ChunkSizes :</span></dt><dd>270</dd><dt><span>_CoordinateAxisType :</span></dt><dd>Lon</dd></dl></div><div class='xr-var-data'><pre>array([105.020833, 105.0625  , 105.104167, ..., 124.9375  , 124.979167,\n",
       "       125.020833])</pre></div></li></ul></div></li><li class='xr-section-item'><input id='section-19ff2c50-4a76-4f3a-80e8-3c7593789d20' class='xr-section-summary-in' type='checkbox'  checked><label for='section-19ff2c50-4a76-4f3a-80e8-3c7593789d20' class='xr-section-summary' >Data variables: <span>(1)</span></label><div class='xr-section-inline-details'></div><div class='xr-section-details'><ul class='xr-var-list'><li class='xr-var-item'><div class='xr-var-name'><span>chlor_a</span></div><div class='xr-var-dims'>(time, lat, lon)</div><div class='xr-var-dtype'>float32</div><div class='xr-var-preview xr-preview'>...</div><input id='attrs-a0eccc2a-6133-4a37-82cc-4a4278ad7375' class='xr-var-attrs-in' type='checkbox' ><label for='attrs-a0eccc2a-6133-4a37-82cc-4a4278ad7375' title='Show/Hide attributes'><svg class='icon xr-icon-file-text2'><use xlink:href='#icon-file-text2'></use></svg></label><input id='data-293928ef-7981-436d-859d-0eafe926251f' class='xr-var-data-in' type='checkbox'><label for='data-293928ef-7981-436d-859d-0eafe926251f' title='Show/Hide data repr'><svg class='icon xr-icon-database'><use xlink:href='#icon-database'></use></svg></label><div class='xr-var-attrs'><dl class='xr-attrs'><dt><span>long_name :</span></dt><dd>Chlorophyll-a concentration in seawater (not log-transformed), generated by as a blended combination of OCI, OCI2, OC2 and OCx algorithms, depending on water class memberships</dd><dt><span>units :</span></dt><dd>milligram m-3</dd><dt><span>ancillary_variables :</span></dt><dd>chlor_a_log10_rmsd chlor_a_log10_bias</dd><dt><span>grid_mapping :</span></dt><dd>crs</dd><dt><span>parameter_vocab_uri :</span></dt><dd>http://vocab.ndg.nerc.ac.uk/term/P011/current/CHLTVOLU</dd><dt><span>standard_name :</span></dt><dd>mass_concentration_of_chlorophyll_a_in_sea_water</dd><dt><span>units_nonstandard :</span></dt><dd>mg m^-3</dd><dt><span>_ChunkSizes :</span></dt><dd>[  1 270 270]</dd></dl></div><div class='xr-var-data'><pre>[211318211 values with dtype=float32]</pre></div></li></ul></div></li><li class='xr-section-item'><input id='section-138be990-a406-4b23-aa32-8638bd12cde8' class='xr-section-summary-in' type='checkbox'  ><label for='section-138be990-a406-4b23-aa32-8638bd12cde8' class='xr-section-summary' >Attributes: <span>(50)</span></label><div class='xr-section-inline-details'></div><div class='xr-section-details'><dl class='xr-attrs'><dt><span>_NCProperties :</span></dt><dd>version=1|netcdflibversion=4.4.1.1|hdf5libversion=1.8.20</dd><dt><span>Conventions :</span></dt><dd>CF-1.7</dd><dt><span>start_date :</span></dt><dd>30-DEC-2020 00:00:00.000000</dd><dt><span>stop_date :</span></dt><dd>30-DEC-2020 23:59:00.000000</dd><dt><span>Metadata_Conventions :</span></dt><dd>Unidata Dataset Discovery v1.0</dd><dt><span>cdm_data_type :</span></dt><dd>Grid</dd><dt><span>comment :</span></dt><dd>See summary attribute</dd><dt><span>creation_date :</span></dt><dd>20210120T164047Z</dd><dt><span>creator_email :</span></dt><dd>help@esa-oceancolour-cci.org</dd><dt><span>creator_name :</span></dt><dd>Plymouth Marine Laboratory</dd><dt><span>creator_url :</span></dt><dd>http://esa-oceancolour-cci.org</dd><dt><span>date_created :</span></dt><dd>20210120T164047Z</dd><dt><span>geospatial_lat_max :</span></dt><dd>24.97916666666667</dd><dt><span>geospatial_lat_min :</span></dt><dd>-0.020833333333328596</dd><dt><span>geospatial_lat_resolution :</span></dt><dd>.04166666666666666666</dd><dt><span>geospatial_lat_units :</span></dt><dd>decimal degrees north</dd><dt><span>geospatial_lon_max :</span></dt><dd>125.02083333333331</dd><dt><span>geospatial_lon_min :</span></dt><dd>105.02083333333331</dd><dt><span>geospatial_lon_resolution :</span></dt><dd>.04166666666666666666</dd><dt><span>geospatial_lon_units :</span></dt><dd>decimal degrees east</dd><dt><span>geospatial_vertical_max :</span></dt><dd>0.0</dd><dt><span>geospatial_vertical_min :</span></dt><dd>0.0</dd><dt><span>git_commit_hash :</span></dt><dd>1898332e6ec0c2b15bdc7126194bbd777370800f</dd><dt><span>history :</span></dt><dd>Source data were: NASA OBPG SeaWiFS level1 R2018.0 LAC and GAC [A/C via l2gen], NASA OBPG VIIRS L1 R2018.0  [A/C via polymer], NASA OBPG MODIS Aqua L1 R2018.0 (A/C via polymer), ESA MERIS L1B (3rd reprocessing inc OCL correction) [Polymer v4.12]  and OLCI L1B [Polymer v4.12]; Derived products were mainly produced with functions validated from the current NASA SeaDAS release and some custom implementations.  Uncertainty generation determined by the fuzzy classifier scheme of Tim Moore (2009) as updated by Jackson et al. (2017) and Jackson et al. (in prep).</dd><dt><span>id :</span></dt><dd>ESACCI-OC-L3S-OC_PRODUCTS-MERGED-1D_DAILY_4km_GEO_PML_OCx_QAA-20201230-fv5.0.nc</dd><dt><span>institution :</span></dt><dd>Plymouth Marine Laboratory</dd><dt><span>keywords :</span></dt><dd>satellite,observation,ocean,ocean colour</dd><dt><span>keywords_vocabulary :</span></dt><dd>none</dd><dt><span>license :</span></dt><dd>ESA CCI Data Policy: free and open access.  When referencing, please use: Ocean Colour Climate Change Initiative dataset, Version &lt;Version Number&gt;, European Space Agency, available online at http://www.esa-oceancolour-cci.org.  We would also appreciate being notified of publications so that we can list them on the project website at http://www.esa-oceancolour-cci.org/?q=publications</dd><dt><span>naming_authority :</span></dt><dd>uk.ac.pml</dd><dt><span>number_of_bands_used_to_classify :</span></dt><dd>4</dd><dt><span>number_of_optical_water_types :</span></dt><dd>14</dd><dt><span>platform :</span></dt><dd>Orbview-2,Aqua,Envisat,Suomi-NPP, Sentinel-3a</dd><dt><span>processing_level :</span></dt><dd>Level-3</dd><dt><span>product_version :</span></dt><dd>5.0</dd><dt><span>project :</span></dt><dd>Climate Change Initiative - European Space Agency</dd><dt><span>references :</span></dt><dd>http://www.esa-oceancolour-cci.org/</dd><dt><span>sensor :</span></dt><dd>SeaWiFS,MODIS,MERIS,VIIRS,OLCI</dd><dt><span>sensors_present :</span></dt><dd> MODISA OLCIa VIIRSN</dd><dt><span>source :</span></dt><dd>NASA SeaWiFS  L1A and L2 R2018.0 LAC and GAC, MODIS-Aqua L1A and L2 R2018.0, MERIS L1B 3rd reprocessing inc OCL corrections, NASA VIIRS L1A and L2 R2018.0, OLCI L1B</dd><dt><span>spatial_resolution :</span></dt><dd>4km nominal at equator</dd><dt><span>standard_name_vocabulary :</span></dt><dd>NetCDF Climate and Forecast (CF) Metadata Conventions Version 1.7</dd><dt><span>summary :</span></dt><dd>Data products generated by the Ocean Colour component of the European Space Agency Climate Change Initiative project. These files are daily composites of merged sensor (MERIS, MODIS Aqua, SeaWiFS LAC &amp; GAC, VIIRS, OLCI) products.  MODIS Aqua and SeaWiFS were band-shifted and bias-corrected to MERIS bands and values using a temporally and spatially varying scheme based on the overlap years of 2003-2007.  VIIRS was band-shifted and bias-corrected in a second stage against the MODIS Rrs that had already been corrected to MERIS levels, for the overlap period 2012-2013; and at the third stage OLCI was bias corrected against already corrected MODIS, for overlap period 2016-07-01 to 2019-06-30.  VIIRS, MODIS, SeaWiFS and MERIS Rrs were derived from a combination of NASA&#x27;s l2gen (for basic sensor geometry corrections, etc) and HYGEOS Polymer v4.12 (for atmospheric correction). OLCI Rrs were sourced at L1b (already geometrically corrected) and processed with polymer.  The Rrs were binned to a sinusoidal 4km level-3 grid, and later to 4km geographic projection, by Brockmann Consult&#x27;s SNAP.  Derived products were generally computed with the standard algorithmsthrough SeaDAS.  QAA IOPs were derived using the standard SeaDAS algorithm but with a modified backscattering table to match that used in the bandshifting.  The final chlorophyll is a combination of OCI, OCI2, OC2 and OCx, depending on the water class memberships.  Uncertainty estimates were added using the fuzzy water classifier and uncertainty estimation algorithm of Tim Moore as documented in Jackson et al (2017). and updated accorsing to Jackson et al. (in prep).</dd><dt><span>time_coverage_duration :</span></dt><dd>P1D</dd><dt><span>time_coverage_end :</span></dt><dd>202012302359Z</dd><dt><span>time_coverage_resolution :</span></dt><dd>P1D</dd><dt><span>time_coverage_start :</span></dt><dd>202012300000Z</dd><dt><span>title :</span></dt><dd>ESA CCI Ocean Colour Product</dd><dt><span>tracking_id :</span></dt><dd>e8da46e7-cf1c-4530-8aaf-18a3e13272f9</dd><dt><span>History :</span></dt><dd>Translated to CF-1.0 Conventions by Netcdf-Java CDM (CFGridWriter2)\n",
       "Original Dataset = CCI_ALL-v5.0-DAILY; Translation Date = 2021-06-09T07:01:29.658Z</dd></dl></div></li></ul></div></div>"
      ],
      "text/plain": [
       "<xarray.Dataset>\n",
       "Dimensions:  (lat: 601, lon: 481, time: 731)\n",
       "Coordinates:\n",
       "  * time     (time) datetime64[ns] 2014-01-01 2014-01-02 ... 2016-01-01\n",
       "  * lat      (lat) float64 24.98 24.94 24.9 24.85 ... 0.0625 0.02083 -0.02083\n",
       "  * lon      (lon) float64 105.0 105.1 105.1 105.1 ... 124.9 124.9 125.0 125.0\n",
       "Data variables:\n",
       "    chlor_a  (time, lat, lon) float32 ...\n",
       "Attributes: (12/50)\n",
       "    _NCProperties:                     version=1|netcdflibversion=4.4.1.1|hdf...\n",
       "    Conventions:                       CF-1.7\n",
       "    start_date:                        30-DEC-2020 00:00:00.000000\n",
       "    stop_date:                         30-DEC-2020 23:59:00.000000\n",
       "    Metadata_Conventions:              Unidata Dataset Discovery v1.0\n",
       "    cdm_data_type:                     Grid\n",
       "    ...                                ...\n",
       "    time_coverage_end:                 202012302359Z\n",
       "    time_coverage_resolution:          P1D\n",
       "    time_coverage_start:               202012300000Z\n",
       "    title:                             ESA CCI Ocean Colour Product\n",
       "    tracking_id:                       e8da46e7-cf1c-4530-8aaf-18a3e13272f9\n",
       "    History:                           Translated to CF-1.0 Conventions by Ne..."
      ]
     },
     "execution_count": 5,
     "metadata": {},
     "output_type": "execute_result"
    }
   ],
   "source": [
    "nc"
   ]
  },
  {
   "cell_type": "code",
   "execution_count": 6,
   "metadata": {},
   "outputs": [],
   "source": [
    "data = np.transpose(nc.chlor_a.data,(1,2,0))"
   ]
  },
  {
   "cell_type": "code",
   "execution_count": 7,
   "metadata": {},
   "outputs": [],
   "source": [
    "num_lat = data.shape[0]\n",
    "num_lon = data.shape[1]\n",
    "num_time = data.shape[2]\n",
    "\n",
    "# 1 参与运算  0 不参与运算\n",
    "mask = np.ones((num_lat,num_lon))\n",
    "for la in range(num_lat):\n",
    "    for lo in range(num_lon):\n",
    "        if np.sum(np.isnan(data[la,lo,:]))>int(0.9*num_time):\n",
    "            mask[la,lo] = 0 \n"
   ]
  },
  {
   "cell_type": "code",
   "execution_count": 12,
   "metadata": {},
   "outputs": [],
   "source": [
    "def dineof_gpu(data,mask,Max_EOF=3,rms_delta = 0.1):\n",
    "    '''\n",
    "    input:  data (lat,lon,time) \n",
    "            mask (lat,lon)\n",
    "            Max_EOF 最大的EOF模态\n",
    "            rms_delta 最小的误差阈值\n",
    "    '''\n",
    "    x = data[mask==1] # 剔除掉陆地\n",
    "    \n",
    "    # 得到确实数据的索引\n",
    "    index = np.arange(len(x.reshape(-1)))  \n",
    "    nan_idx = np.where(np.isnan(x.reshape(-1)))\n",
    "    \n",
    "    # 交叉验证索引\n",
    "    val_idx_random = np.random.choice(index,int(0.1*len(index)))\n",
    "    val_idx = np.concatenate([val_idx_random,nan_idx[0]])\n",
    "    \n",
    "    # 将缺失值替换为 0 \n",
    "    x[np.isnan(x)]=0 \n",
    "    \n",
    "    # 初始化一些参属\n",
    "    eof_n = 0\n",
    "    RMS = []\n",
    "    rms_prev = np.inf\n",
    "    perform = []\n",
    "    rms_now = 0\n",
    "    while((rms_prev - rms_now > rms_delta)&(eof_n<=Max_EOF)):\n",
    "        rms_prev = rms_now\n",
    "        \n",
    "        xx = torch.from_numpy(x).cuda()\n",
    "        U,S,V = torch.svd(xx)\n",
    "        Reci = torch.mm(torch.mul(unsqueeze(U[:,eof_n],dim=1),S[eof_n]),unsqueeze(V[:,eof_n],dim=1).T)\n",
    "        Reci = Reci.cpu()\n",
    "        # 需要释放GPU\n",
    "        torch.cuda.empty_cache()\n",
    "        rms_now = np.sqrt(np.nanmean(Reci.reshape(-1)[val_idx]-x[val_idx])^2)\n",
    "        RMS.append(rms_now)\n",
    "        perform.append((eof_n,rms_now))\n",
    "        print((eof_n,rms_now))\n",
    "        \n",
    "        if(rms_now==min(RMS)):\n",
    "            data[mask==1]  = Reci\n",
    "            print(\"done\")\n",
    "            perform_best = (eof_n,rms_now)\n",
    "    return data,perform,perform_best"
   ]
  },
  {
   "cell_type": "code",
   "execution_count": 13,
   "metadata": {},
   "outputs": [
    {
     "ename": "MemoryError",
     "evalue": "Unable to allocate 354. GiB for an array with shape (129985236, 731) and data type float32",
     "output_type": "error",
     "traceback": [
      "\u001b[0;31m-----------------------------------------------------------\u001b[0m",
      "\u001b[0;31mMemoryError\u001b[0m               Traceback (most recent call last)",
      "\u001b[0;32m<ipython-input-13-d6a85633a5ac>\u001b[0m in \u001b[0;36m<module>\u001b[0;34m\u001b[0m\n\u001b[0;32m----> 1\u001b[0;31m \u001b[0mdata\u001b[0m\u001b[0;34m,\u001b[0m\u001b[0mperform\u001b[0m\u001b[0;34m,\u001b[0m\u001b[0mperform_best\u001b[0m \u001b[0;34m=\u001b[0m \u001b[0mdineof_gpu\u001b[0m\u001b[0;34m(\u001b[0m\u001b[0mdata\u001b[0m\u001b[0;34m,\u001b[0m\u001b[0mmask\u001b[0m\u001b[0;34m)\u001b[0m\u001b[0;34m\u001b[0m\u001b[0;34m\u001b[0m\u001b[0m\n\u001b[0m",
      "\u001b[0;32m<ipython-input-12-a34201d18780>\u001b[0m in \u001b[0;36mdineof_gpu\u001b[0;34m(data, mask, Max_EOF, rms_delta)\u001b[0m\n\u001b[1;32m     34\u001b[0m         \u001b[0;31m# 需要释放GPU\u001b[0m\u001b[0;34m\u001b[0m\u001b[0;34m\u001b[0m\u001b[0;34m\u001b[0m\u001b[0m\n\u001b[1;32m     35\u001b[0m         \u001b[0mtorch\u001b[0m\u001b[0;34m.\u001b[0m\u001b[0mcuda\u001b[0m\u001b[0;34m.\u001b[0m\u001b[0mempty_cache\u001b[0m\u001b[0;34m(\u001b[0m\u001b[0;34m)\u001b[0m\u001b[0;34m\u001b[0m\u001b[0;34m\u001b[0m\u001b[0m\n\u001b[0;32m---> 36\u001b[0;31m         \u001b[0mrms_now\u001b[0m \u001b[0;34m=\u001b[0m \u001b[0mnp\u001b[0m\u001b[0;34m.\u001b[0m\u001b[0msqrt\u001b[0m\u001b[0;34m(\u001b[0m\u001b[0mnp\u001b[0m\u001b[0;34m.\u001b[0m\u001b[0mnanmean\u001b[0m\u001b[0;34m(\u001b[0m\u001b[0mReci\u001b[0m\u001b[0;34m.\u001b[0m\u001b[0mreshape\u001b[0m\u001b[0;34m(\u001b[0m\u001b[0;34m-\u001b[0m\u001b[0;36m1\u001b[0m\u001b[0;34m)\u001b[0m\u001b[0;34m[\u001b[0m\u001b[0mval_idx\u001b[0m\u001b[0;34m]\u001b[0m\u001b[0;34m-\u001b[0m\u001b[0mx\u001b[0m\u001b[0;34m[\u001b[0m\u001b[0mval_idx\u001b[0m\u001b[0;34m]\u001b[0m\u001b[0;34m)\u001b[0m\u001b[0;34m^\u001b[0m\u001b[0;36m2\u001b[0m\u001b[0;34m)\u001b[0m\u001b[0;34m\u001b[0m\u001b[0;34m\u001b[0m\u001b[0m\n\u001b[0m\u001b[1;32m     37\u001b[0m         \u001b[0mRMS\u001b[0m\u001b[0;34m.\u001b[0m\u001b[0mappend\u001b[0m\u001b[0;34m(\u001b[0m\u001b[0mrms_now\u001b[0m\u001b[0;34m)\u001b[0m\u001b[0;34m\u001b[0m\u001b[0;34m\u001b[0m\u001b[0m\n\u001b[1;32m     38\u001b[0m         \u001b[0mperform\u001b[0m\u001b[0;34m.\u001b[0m\u001b[0mappend\u001b[0m\u001b[0;34m(\u001b[0m\u001b[0;34m(\u001b[0m\u001b[0meof_n\u001b[0m\u001b[0;34m,\u001b[0m\u001b[0mrms_now\u001b[0m\u001b[0;34m)\u001b[0m\u001b[0;34m)\u001b[0m\u001b[0;34m\u001b[0m\u001b[0;34m\u001b[0m\u001b[0m\n",
      "\u001b[0;31mMemoryError\u001b[0m: Unable to allocate 354. GiB for an array with shape (129985236, 731) and data type float32"
     ]
    }
   ],
   "source": [
    "data,perform,perform_best = dineof_gpu(data,mask)"
   ]
  },
  {
   "cell_type": "code",
   "execution_count": null,
   "metadata": {},
   "outputs": [],
   "source": []
  },
  {
   "cell_type": "code",
   "execution_count": null,
   "metadata": {},
   "outputs": [],
   "source": []
  },
  {
   "cell_type": "code",
   "execution_count": 44,
   "metadata": {
    "scrolled": true
   },
   "outputs": [
    {
     "data": {
      "text/plain": [
       "True"
      ]
     },
     "execution_count": 44,
     "metadata": {},
     "output_type": "execute_result"
    }
   ],
   "source": [
    "np.inf-10>10"
   ]
  },
  {
   "cell_type": "code",
   "execution_count": 12,
   "metadata": {
    "scrolled": true
   },
   "outputs": [
    {
     "name": "stdout",
     "output_type": "stream",
     "text": [
      "CPU times: user 5.8 s, sys: 2.79 s, total: 8.59 s\n",
      "Wall time: 10.1 s\n"
     ]
    }
   ],
   "source": [
    "%%time\n",
    "# 可以计算SVD了\n",
    "xx = torch.from_numpy(x).cuda()\n",
    "U,S,V = torch.svd(xx)"
   ]
  },
  {
   "cell_type": "code",
   "execution_count": 14,
   "metadata": {},
   "outputs": [
    {
     "data": {
      "text/plain": [
       "torch.Size([199082, 731])"
      ]
     },
     "execution_count": 14,
     "metadata": {},
     "output_type": "execute_result"
    }
   ],
   "source": [
    "Reci = torch.mm(torch.mul(unsqueeze(U[:,eof_n],dim=1),S[eof_n]),unsqueeze(V[:,eof_n],dim=1).T)"
   ]
  },
  {
   "cell_type": "code",
   "execution_count": null,
   "metadata": {},
   "outputs": [],
   "source": [
    "# 计算rmse\n",
    "rms = np.sqrt(np.nanmean(Reci.reshape(-1)[val_idx]-xx[val_idx])^2)\n",
    "RMS.append(rms)"
   ]
  },
  {
   "cell_type": "code",
   "execution_count": 188,
   "metadata": {},
   "outputs": [
    {
     "data": {
      "text/plain": [
       "torch.Size([199082, 731])"
      ]
     },
     "execution_count": 188,
     "metadata": {},
     "output_type": "execute_result"
    }
   ],
   "source": [
    "data[mask==1] = Reci"
   ]
  },
  {
   "cell_type": "code",
   "execution_count": 160,
   "metadata": {},
   "outputs": [
    {
     "data": {
      "text/plain": [
       "torch.Size([10000])"
      ]
     },
     "execution_count": 160,
     "metadata": {},
     "output_type": "execute_result"
    }
   ],
   "source": []
  },
  {
   "cell_type": "code",
   "execution_count": 145,
   "metadata": {},
   "outputs": [
    {
     "data": {
      "text/plain": [
       "torch.Size([10000])"
      ]
     },
     "execution_count": 145,
     "metadata": {},
     "output_type": "execute_result"
    }
   ],
   "source": [
    ",unsqueeze(V[:,eof_n],dim=1).T"
   ]
  },
  {
   "cell_type": "code",
   "execution_count": 136,
   "metadata": {},
   "outputs": [
    {
     "data": {
      "text/plain": [
       "torch.Size([1, 10000])"
      ]
     },
     "execution_count": 136,
     "metadata": {},
     "output_type": "execute_result"
    }
   ],
   "source": [
    "torch.unsqueeze(U[:,eof_n],dim=1).T.shape"
   ]
  },
  {
   "cell_type": "code",
   "execution_count": 22,
   "metadata": {},
   "outputs": [
    {
     "ename": "AttributeError",
     "evalue": "module 'hyperlearn' has no attribute 'linalg'",
     "output_type": "error",
     "traceback": [
      "\u001b[0;31m---------------------------------------------------------------------------\u001b[0m",
      "\u001b[0;31mAttributeError\u001b[0m                            Traceback (most recent call last)",
      "\u001b[0;32m<ipython-input-22-af9648aec67c>\u001b[0m in \u001b[0;36m<module>\u001b[0;34m\u001b[0m\n\u001b[1;32m      1\u001b[0m \u001b[0;32mimport\u001b[0m \u001b[0mhyperlearn\u001b[0m \u001b[0;32mas\u001b[0m \u001b[0mhl\u001b[0m\u001b[0;34m\u001b[0m\u001b[0;34m\u001b[0m\u001b[0m\n\u001b[1;32m      2\u001b[0m \u001b[0;31m# from hyperlearn.linalg import svd\u001b[0m\u001b[0;34m\u001b[0m\u001b[0;34m\u001b[0m\u001b[0;34m\u001b[0m\u001b[0m\n\u001b[0;32m----> 3\u001b[0;31m \u001b[0mU\u001b[0m\u001b[0;34m,\u001b[0m \u001b[0mS\u001b[0m\u001b[0;34m,\u001b[0m \u001b[0mVT\u001b[0m \u001b[0;34m=\u001b[0m \u001b[0mhl\u001b[0m\u001b[0;34m.\u001b[0m\u001b[0mlinalg\u001b[0m\u001b[0;34m.\u001b[0m\u001b[0msvd\u001b[0m\u001b[0;34m(\u001b[0m\u001b[0mxx\u001b[0m\u001b[0;34m)\u001b[0m\u001b[0;34m\u001b[0m\u001b[0;34m\u001b[0m\u001b[0m\n\u001b[0m",
      "\u001b[0;31mAttributeError\u001b[0m: module 'hyperlearn' has no attribute 'linalg'"
     ]
    }
   ],
   "source": [
    "import hyperlearn as hl\n",
    "# from hyperlearn.linalg import svd\n",
    "U, S, VT = hl.linalg.svd(xx)"
   ]
  },
  {
   "cell_type": "code",
   "execution_count": null,
   "metadata": {},
   "outputs": [],
   "source": []
  },
  {
   "cell_type": "code",
   "execution_count": null,
   "metadata": {},
   "outputs": [],
   "source": []
  }
 ],
 "metadata": {
  "interpreter": {
   "hash": "4e39c6f4e3bdd1f9821d2e01682d11ff3598ae26178b2a7a8f8a382fec1391e6"
  },
  "kernelspec": {
   "display_name": "Python 3",
   "language": "python",
   "name": "python3"
  },
  "language_info": {
   "codemirror_mode": {
    "name": "ipython",
    "version": 3
   },
   "file_extension": ".py",
   "mimetype": "text/x-python",
   "name": "python",
   "nbconvert_exporter": "python",
   "pygments_lexer": "ipython3",
   "version": "3.9.0"
  }
 },
 "nbformat": 4,
 "nbformat_minor": 2
}
